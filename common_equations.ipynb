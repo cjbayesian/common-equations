{
 "cells": [
  {
   "cell_type": "markdown",
   "metadata": {},
   "source": [
    "# Common Equations\n",
    "This notebook will display equations commonly found in literature rendered via MathJax (LaTex). Please feel free to add any of your equations with a description to the repo. "
   ]
  },
  {
   "cell_type": "markdown",
   "metadata": {},
   "source": [
    "## Mean\n",
    "### Population Mean\n",
    "<span>\n",
    "$$\n",
    "\\begin{equation}\n",
    "\\mu = {\\Sigma X \\over N}\n",
    "\\end{equation}\n",
    "$$\n",
    "</span>"
   ]
  },
  {
   "cell_type": "raw",
   "metadata": {},
   "source": [
    "$$\n",
    "\\begin{equation}\n",
    "\\mu = {\\Sigma X \\over N}\n",
    "\\end{equation}\n",
    "$$"
   ]
  },
  {
   "cell_type": "markdown",
   "metadata": {},
   "source": [
    "### Sample Mean\n",
    "<span>\n",
    "$$\n",
    "\\begin{equation}\n",
    "\\bar{X} = {\\Sigma X \\over n}\n",
    "\\end{equation}\n",
    "$$\n",
    "</span>"
   ]
  },
  {
   "cell_type": "raw",
   "metadata": {},
   "source": [
    "$$\n",
    "\\begin{equation}\n",
    "\\bar{X} = {\\Sigma X \\over n}\n",
    "\\end{equation}\n",
    "$$"
   ]
  },
  {
   "cell_type": "markdown",
   "metadata": {},
   "source": [
    "## Variance\n",
    "### Population Variance\n",
    "<span>\n",
    "$$\n",
    "\\begin{equation}\n",
    "\\sigma^2 = {\\Sigma(X-\\mu)^2 \\over N}\n",
    "\\end{equation}\n",
    "$$\n",
    "</span>\n"
   ]
  },
  {
   "cell_type": "raw",
   "metadata": {},
   "source": [
    "$$\n",
    "\\begin{equation}\n",
    "\\sigma^2 = {\\Sigma(X-\\mu)^2 \\over N}\n",
    "\\end{equation}\n",
    "$$"
   ]
  },
  {
   "cell_type": "markdown",
   "metadata": {},
   "source": [
    "### Sample Variance\n",
    "<span>\n",
    "$$\n",
    "\\begin{equation}\n",
    "s^2 = {\\Sigma(X-\\bar{X})^2 \\over (n-1)}\n",
    "\\end{equation}\n",
    "$$\n",
    "</span>"
   ]
  },
  {
   "cell_type": "raw",
   "metadata": {},
   "source": [
    "$$\n",
    "\\begin{equation}\n",
    "s^2 = {\\Sigma(X-\\bar{X})^2 \\over (n-1)}\n",
    "\\end{equation}\n",
    "$$"
   ]
  },
  {
   "cell_type": "markdown",
   "metadata": {},
   "source": [
    "## Standard Deviation\n",
    "\n",
    "### Population\n",
    "<span>\n",
    "$$\n",
    "\\begin{equation}\n",
    "\\sigma = \\sqrt{\\Sigma(X-\\mu)^2 \\over N}\n",
    "\\end{equation}\n",
    "$$\n",
    "</span><br/>\n"
   ]
  },
  {
   "cell_type": "raw",
   "metadata": {},
   "source": [
    "$$\n",
    "\\begin{equation}\n",
    "\\sigma = \\sqrt{\\Sigma(X-\\mu)^2 \\over N}\n",
    "\\end{equation}\n",
    "$$"
   ]
  },
  {
   "cell_type": "markdown",
   "metadata": {},
   "source": [
    "## Sample\n",
    "<span>\n",
    "$$\n",
    "\\begin{equation}\n",
    "s = \\sqrt{\\Sigma(X-\\bar{X})^2 \\over (n-1)}\n",
    "\\end{equation}\n",
    "$$\n",
    "</span>"
   ]
  },
  {
   "cell_type": "raw",
   "metadata": {},
   "source": [
    "$$\n",
    "\\begin{equation}\n",
    "s = \\sqrt{\\Sigma(X-\\bar{X})^2 \\over (n-1)}\n",
    "\\end{equation}\n",
    "$$"
   ]
  },
  {
   "cell_type": "markdown",
   "metadata": {},
   "source": [
    "## Covariance\n",
    "### Sample\n",
    "<span>\n",
    "    $$\n",
    "    \\begin{equation}\n",
    "    cov(x,y) = {\\Sigma(x-\\bar{x})(y-\\bar{y}) \\over (n-1)}\n",
    "    \\end{equation}\n",
    "    $$\n",
    "</span>"
   ]
  },
  {
   "cell_type": "raw",
   "metadata": {},
   "source": [
    "    $$\n",
    "    \\begin{equation}\n",
    "    cov(x,y) = {\\Sigma(x-\\bar{x})(y-\\bar{y}) \\over (n-1)}\n",
    "    \\end{equation}\n",
    "    $$"
   ]
  },
  {
   "cell_type": "markdown",
   "metadata": {},
   "source": [
    "### Population\n",
    "<span>\n",
    "$$\n",
    "\\begin{equation}\n",
    "cov(x,y) = {\\Sigma(x-\\mu_{x})(y-\\mu_{y}) \\over N}\n",
    "\\end{equation}\n",
    "$$\n",
    "</span>"
   ]
  },
  {
   "cell_type": "raw",
   "metadata": {},
   "source": [
    "$$\n",
    "\\begin{equation}\n",
    "cov(x,y) = {\\Sigma(x-\\mu_{x})(y-\\mu_{y}) \\over N}\n",
    "\\end{equation}\n",
    "$$"
   ]
  },
  {
   "cell_type": "markdown",
   "metadata": {},
   "source": [
    "## Pearson Correlation\n",
    "\n",
    "### Sample\n",
    "<span>\n",
    "    $$\n",
    "    \\begin{equation}\n",
    "    r = {\\Sigma(z_{x}z_{y}) \\over (n-1)}\n",
    "    \\end{equation}\n",
    "    $$\n",
    "</span>"
   ]
  },
  {
   "cell_type": "raw",
   "metadata": {},
   "source": [
    "$$\n",
    "\\begin{equation}\n",
    "\\rho = {\\Sigma(z_{x}z_{y}) \\over (n-1)}\n",
    "\\end{equation}\n",
    "$$"
   ]
  },
  {
   "cell_type": "markdown",
   "metadata": {},
   "source": [
    "### Population\n",
    "<span>\n",
    "$$\n",
    "\\begin{equation}\n",
    "\\rho = {\\Sigma(z_{x}z_{y}) \\over N}\n",
    "\\end{equation}\n",
    "$$\n",
    "</span>"
   ]
  },
  {
   "cell_type": "raw",
   "metadata": {},
   "source": [
    "$$\n",
    "\\begin{equation}\n",
    "\\rho = {\\Sigma(z_{x}z_{y}) \\over N}\n",
    "\\end{equation}\n",
    "$$"
   ]
  }
 ],
 "metadata": {
  "kernelspec": {
   "display_name": "Python [py35]",
   "language": "python",
   "name": "Python [py35]"
  },
  "language_info": {
   "codemirror_mode": {
    "name": "ipython",
    "version": 3
   },
   "file_extension": ".py",
   "mimetype": "text/x-python",
   "name": "python",
   "nbconvert_exporter": "python",
   "pygments_lexer": "ipython3",
   "version": "3.5.2"
  }
 },
 "nbformat": 4,
 "nbformat_minor": 0
}
